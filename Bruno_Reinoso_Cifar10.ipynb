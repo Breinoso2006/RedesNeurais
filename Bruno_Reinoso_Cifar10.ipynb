{
 "cells": [
  {
   "cell_type": "code",
   "execution_count": 1,
   "metadata": {},
   "outputs": [],
   "source": [
    "from keras import layers \n",
    "from keras import models \n",
    "model = models.Sequential()"
   ]
  },
  {
   "cell_type": "code",
   "execution_count": 2,
   "metadata": {},
   "outputs": [
    {
     "name": "stdout",
     "output_type": "stream",
     "text": [
      "MaxPooling permite maior velocidade nos cálculos. Contudo, sem o mesmo, a acurácia é maior\n"
     ]
    }
   ],
   "source": [
    "model=models.Sequential()\n",
    "model.add(layers.Conv2D(32, (3,3), activation='relu', input_shape=(32,32,3)))\n",
    "model.add(layers.MaxPooling2D((2,  2)))\n",
    "model.add(layers.Conv2D(64, (3,3), activation='relu'))\n",
    "model.add(layers.MaxPooling2D((2,  2)))\n",
    "model.add(layers.Conv2D(64, (3,3), activation='relu'))\n",
    "\n",
    "print('MaxPooling permite maior velocidade nos cálculos. Contudo, sem o mesmo, a acurácia é maior')"
   ]
  },
  {
   "cell_type": "code",
   "execution_count": 3,
   "metadata": {},
   "outputs": [
    {
     "name": "stdout",
     "output_type": "stream",
     "text": [
      "Model: \"sequential_1\"\n",
      "_________________________________________________________________\n",
      "Layer (type)                 Output Shape              Param #   \n",
      "=================================================================\n",
      "conv2d (Conv2D)              (None, 30, 30, 32)        896       \n",
      "_________________________________________________________________\n",
      "max_pooling2d (MaxPooling2D) (None, 15, 15, 32)        0         \n",
      "_________________________________________________________________\n",
      "conv2d_1 (Conv2D)            (None, 13, 13, 64)        18496     \n",
      "_________________________________________________________________\n",
      "max_pooling2d_1 (MaxPooling2 (None, 6, 6, 64)          0         \n",
      "_________________________________________________________________\n",
      "conv2d_2 (Conv2D)            (None, 4, 4, 64)          36928     \n",
      "=================================================================\n",
      "Total params: 56,320\n",
      "Trainable params: 56,320\n",
      "Non-trainable params: 0\n",
      "_________________________________________________________________\n"
     ]
    }
   ],
   "source": [
    "model.summary()"
   ]
  },
  {
   "cell_type": "code",
   "execution_count": 4,
   "metadata": {},
   "outputs": [],
   "source": [
    "model.add(layers.Flatten())\n",
    "model.add(layers.Dense(64, activation='relu'))\n",
    "model.add(layers.Dense(10, activation='softmax'))"
   ]
  },
  {
   "cell_type": "code",
   "execution_count": 5,
   "metadata": {},
   "outputs": [
    {
     "name": "stdout",
     "output_type": "stream",
     "text": [
      "Model: \"sequential_1\"\n",
      "_________________________________________________________________\n",
      "Layer (type)                 Output Shape              Param #   \n",
      "=================================================================\n",
      "conv2d (Conv2D)              (None, 30, 30, 32)        896       \n",
      "_________________________________________________________________\n",
      "max_pooling2d (MaxPooling2D) (None, 15, 15, 32)        0         \n",
      "_________________________________________________________________\n",
      "conv2d_1 (Conv2D)            (None, 13, 13, 64)        18496     \n",
      "_________________________________________________________________\n",
      "max_pooling2d_1 (MaxPooling2 (None, 6, 6, 64)          0         \n",
      "_________________________________________________________________\n",
      "conv2d_2 (Conv2D)            (None, 4, 4, 64)          36928     \n",
      "_________________________________________________________________\n",
      "flatten (Flatten)            (None, 1024)              0         \n",
      "_________________________________________________________________\n",
      "dense (Dense)                (None, 64)                65600     \n",
      "_________________________________________________________________\n",
      "dense_1 (Dense)              (None, 10)                650       \n",
      "=================================================================\n",
      "Total params: 122,570\n",
      "Trainable params: 122,570\n",
      "Non-trainable params: 0\n",
      "_________________________________________________________________\n"
     ]
    }
   ],
   "source": [
    "model.summary()"
   ]
  },
  {
   "cell_type": "code",
   "execution_count": 6,
   "metadata": {},
   "outputs": [],
   "source": [
    "from keras.datasets import cifar10\n",
    "from keras.utils import to_categorical\n",
    "\n",
    "\n",
    "(train_images, train_labels), (test_images, test_labels) = cifar10.load_data()\n",
    "\n",
    "train_images = train_images.reshape((50000, 32, 32, 3))\n",
    "train_images = train_images.astype('float32') / 255.0\n",
    "\n",
    "test_images = test_images.reshape((10000, 32, 32, 3))\n",
    "test_images = test_images.astype('float32') / 255.0\n",
    "\n",
    "train_labels = to_categorical(train_labels)\n",
    "test_labels  = to_categorical(test_labels)"
   ]
  },
  {
   "cell_type": "code",
   "execution_count": 7,
   "metadata": {},
   "outputs": [
    {
     "name": "stdout",
     "output_type": "stream",
     "text": [
      "Treinamento - Quantidade de imagens por categoria\n",
      "\n",
      "avião    \t5000\n",
      "automóvel    \t5000\n",
      "pássaro    \t5000\n",
      "gato    \t5000\n",
      "cervo    \t5000\n",
      "cachorro    \t5000\n",
      "sapo    \t5000\n",
      "cavalo    \t5000\n",
      "navio    \t5000\n",
      "caminhão    \t5000\n",
      "\n",
      "Teste - Quantidade de imagens por categoria\n",
      "\n",
      "avião     \t1000\n",
      "automóvel     \t1000\n",
      "pássaro     \t1000\n",
      "gato     \t1000\n",
      "cervo     \t1000\n",
      "cachorro     \t1000\n",
      "sapo     \t1000\n",
      "cavalo     \t1000\n",
      "navio     \t1000\n",
      "caminhão     \t1000\n"
     ]
    }
   ],
   "source": [
    "label_names  = ['avião', 'automóvel', 'pássaro', 'gato', 'cervo', 'cachorro', 'sapo', 'cavalo', 'navio', 'caminhão']\n",
    "\n",
    "train_names = []\n",
    "for line in train_labels:\n",
    "    for i, element in enumerate(line):\n",
    "        if element == 1:\n",
    "            train_names.append(label_names[i])\n",
    "\n",
    "test_names = []\n",
    "for line in test_labels:\n",
    "    for i, element in enumerate(line):\n",
    "        if element == 1:\n",
    "            test_names.append(label_names[i])\n",
    "            \n",
    "print(\"Treinamento - Quantidade de imagens por categoria\\n\")\n",
    "for name in label_names:\n",
    "    print(f\"{name}    \\t{train_names.count(name)}\")\n",
    "   \n",
    "print(\"\\nTeste - Quantidade de imagens por categoria\\n\")\n",
    "for name in label_names:\n",
    "    print(f\"{name}     \\t{test_names.count(name)}\")"
   ]
  },
  {
   "cell_type": "code",
   "execution_count": 8,
   "metadata": {},
   "outputs": [
    {
     "name": "stdout",
     "output_type": "stream",
     "text": [
      "===== TREINAMENTO =====\n",
      "\n",
      "Epoch 1/8\n",
      "782/782 [==============================] - 26s 34ms/step - loss: 1.6503 - accuracy: 0.4036\n",
      "Epoch 2/8\n",
      "782/782 [==============================] - 28s 36ms/step - loss: 1.2423 - accuracy: 0.5603\n",
      "Epoch 3/8\n",
      "782/782 [==============================] - 27s 35ms/step - loss: 1.0620 - accuracy: 0.6276\n",
      "Epoch 4/8\n",
      "782/782 [==============================] - 27s 34ms/step - loss: 0.9541 - accuracy: 0.6657\n",
      "Epoch 5/8\n",
      "782/782 [==============================] - 25s 32ms/step - loss: 0.8689 - accuracy: 0.6964\n",
      "Epoch 6/8\n",
      "782/782 [==============================] - 27s 34ms/step - loss: 0.7981 - accuracy: 0.7218\n",
      "Epoch 7/8\n",
      "782/782 [==============================] - 27s 34ms/step - loss: 0.7366 - accuracy: 0.7449\n",
      "Epoch 8/8\n",
      "782/782 [==============================] - 26s 33ms/step - loss: 0.6838 - accuracy: 0.7619\n"
     ]
    },
    {
     "data": {
      "text/plain": [
       "<tensorflow.python.keras.callbacks.History at 0x249802cae80>"
      ]
     },
     "execution_count": 8,
     "metadata": {},
     "output_type": "execute_result"
    }
   ],
   "source": [
    "print('===== TREINAMENTO =====\\n')\n",
    "model.compile(optimizer='rmsprop',\n",
    "              loss='categorical_crossentropy',\n",
    "              metrics=['accuracy'])\n",
    "model.fit(train_images, train_labels, epochs=8, batch_size=64)"
   ]
  },
  {
   "cell_type": "code",
   "execution_count": 9,
   "metadata": {},
   "outputs": [
    {
     "name": "stdout",
     "output_type": "stream",
     "text": [
      "===== TESTE =====\n",
      "\n",
      "WARNING:tensorflow:From <ipython-input-9-65843db9f7c8>:5: Sequential.predict_classes (from tensorflow.python.keras.engine.sequential) is deprecated and will be removed after 2021-01-01.\n",
      "Instructions for updating:\n",
      "Please use instead:* `np.argmax(model.predict(x), axis=-1)`,   if your model does multi-class classification   (e.g. if it uses a `softmax` last-layer activation).* `(model.predict(x) > 0.5).astype(\"int32\")`,   if your model does binary classification   (e.g. if it uses a `sigmoid` last-layer activation).\n",
      "Acurácia por categoria\n",
      "\n",
      "avião     \t= 72.8%\n",
      "automóvel     \t= 76.7%\n",
      "pássaro     \t= 50.8%\n",
      "gato     \t= 61.5%\n",
      "cervo     \t= 69.6%\n",
      "cachorro     \t= 71.0%\n",
      "sapo     \t= 73.6%\n",
      "cavalo     \t= 64.1%\n",
      "navio     \t= 85.8%\n",
      "caminhão     \t= 71.89999999999999%\n",
      "\n",
      "\n",
      "313/313 [==============================] - 2s 5ms/step - loss: 0.9391 - accuracy: 0.6978\n",
      "Acurácia média = 69.77999806404114%, Erro médio = 0.9390783905982971\n"
     ]
    }
   ],
   "source": [
    "print('===== TESTE =====\\n')\n",
    "import numpy as np\n",
    "\n",
    "test_labels_index = np.argmax(test_labels, axis=1)       \n",
    "test_pred         = model.predict_classes(test_images, batch_size=64)\n",
    "results           = [0] * 10\n",
    "\n",
    "for prediction, truth in zip(test_pred, test_labels_index):\n",
    "    if prediction == truth:\n",
    "        results[prediction] += 1\n",
    "        \n",
    "print(\"Acurácia por categoria\\n\")\n",
    "for name, result in zip(label_names, results):\n",
    "    result = result/test_names.count(name) * 100\n",
    "    print(f\"{name}     \\t= {result}%\")\n",
    "         \n",
    "print(\"\\n\")\n",
    "\n",
    "test_loss, test_acc = model.evaluate(test_images, test_labels)\n",
    "\n",
    "print(f\"Acurácia média = {test_acc*100}%, Erro médio = {test_loss}\")"
   ]
  }
 ],
 "metadata": {
  "kernelspec": {
   "display_name": "Python 3",
   "language": "python",
   "name": "python3"
  },
  "language_info": {
   "codemirror_mode": {
    "name": "ipython",
    "version": 3
   },
   "file_extension": ".py",
   "mimetype": "text/x-python",
   "name": "python",
   "nbconvert_exporter": "python",
   "pygments_lexer": "ipython3",
   "version": "3.8.3"
  }
 },
 "nbformat": 4,
 "nbformat_minor": 4
}
